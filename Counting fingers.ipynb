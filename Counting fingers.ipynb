{
 "cells": [
  {
   "cell_type": "code",
   "execution_count": 5,
   "metadata": {},
   "outputs": [],
   "source": [
    "import numpy as np\n",
    "import cv2\n",
    "import handmodule as htm"
   ]
  },
  {
   "cell_type": "code",
   "execution_count": 6,
   "metadata": {},
   "outputs": [],
   "source": [
    "cap = cv2.VideoCapture(0)\n",
    "cap. set(cv2.CAP_PROP_FRAME_WIDTH, 1080)\n",
    "cap. set(cv2.CAP_PROP_FRAME_HEIGHT, 1080)\n",
    "detector=htm.HandDetector(detectionCon=0.69)\n",
    "while True:\n",
    "    _ ,img= cap.read()\n",
    "    img = cv2.flip(img,1)\n",
    "    img = detector.findhands(img)\n",
    "    lmlist =  detector.findposition(img,draw=False)\n",
    "    n=0\n",
    "    fingerpoints = [4,8,12,16,20]\n",
    "    fingers=[]\n",
    "    if len(lmlist)!= 0:\n",
    "        for i in range(1,5):\n",
    "            if lmlist[fingerpoints[i]][2] < lmlist[fingerpoints[i]-2][2]:\n",
    "                fingers.append(1)\n",
    "            else:\n",
    "                fingers.append(0)\n",
    "\n",
    "        if (lmlist[fingerpoints[0]][1] < lmlist[fingerpoints[0]-2][1]) &(lmlist[fingerpoints[0]][1] < lmlist[fingerpoints[0]-1][1]):\n",
    "            fingers.append(1)\n",
    "        else:\n",
    "            fingers.append(0)\n",
    "\n",
    "        n=fingers.count(1)\n",
    "        cv2.putText(img, str(n), (1080,150),  cv2.FONT_HERSHEY_SIMPLEX,\n",
    "                    6, (0, 255, 0), 5)\n",
    "    \n",
    "    cv2.imshow(\"LOL\",img)\n",
    "    if cv2.waitKey(1) & 0xFF == ord('q'):\n",
    "        break\n",
    "cap.release()\n",
    "cv2.destroyAllWindows()"
   ]
  },
  {
   "cell_type": "code",
   "execution_count": 25,
   "metadata": {},
   "outputs": [
    {
     "data": {
      "text/plain": [
       "[0, 0, 0, 1]"
      ]
     },
     "execution_count": 25,
     "metadata": {},
     "output_type": "execute_result"
    }
   ],
   "source": []
  },
  {
   "cell_type": "code",
   "execution_count": null,
   "metadata": {},
   "outputs": [],
   "source": []
  }
 ],
 "metadata": {
  "kernelspec": {
   "display_name": "Python 3",
   "language": "python",
   "name": "python3"
  },
  "language_info": {
   "codemirror_mode": {
    "name": "ipython",
    "version": 3
   },
   "file_extension": ".py",
   "mimetype": "text/x-python",
   "name": "python",
   "nbconvert_exporter": "python",
   "pygments_lexer": "ipython3",
   "version": "3.8.3"
  }
 },
 "nbformat": 4,
 "nbformat_minor": 4
}
