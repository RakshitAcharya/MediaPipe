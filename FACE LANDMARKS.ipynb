{
 "cells": [
  {
   "cell_type": "code",
   "execution_count": 1,
   "metadata": {},
   "outputs": [],
   "source": [
    "import cv2\n",
    "import mediapipe as mp\n",
    "import time"
   ]
  },
  {
   "cell_type": "code",
   "execution_count": 12,
   "metadata": {},
   "outputs": [],
   "source": [
    "cap = cv2.VideoCapture(0)\n",
    "cap.set(cv2.CAP_PROP_FRAME_WIDTH, 1060)\n",
    "cap.set(cv2.CAP_PROP_FRAME_HEIGHT, 1020)\n",
    "\n",
    "mpDraw =  mp.solutions.drawing_utils\n",
    "mpFacemesh = mp.solutions.face_mesh \n",
    "facemesh = mpFacemesh.FaceMesh(max_num_faces=3)\n",
    "\n",
    "drawspec = mpDraw.DrawingSpec(thickness =1 , circle_radius = 1)\n",
    "\n",
    "while True:\n",
    "    _,img= cap.read()\n",
    "    img = cv2.flip(img,1)\n",
    "    imgrgb=cv2.cvtColor(img ,cv2.COLOR_BGR2RGB)\n",
    "    \n",
    "    results = facemesh.process(imgrgb)\n",
    "    if results.multi_face_landmarks:\n",
    "        for facelm in results.multi_face_landmarks:\n",
    "            mpDraw.draw_landmarks(img,facelm, mpFacemesh.FACE_CONNECTIONS,drawspec , drawspec)\n",
    "    \n",
    "    cv2.imshow(\"Face Mesh\",img)\n",
    "    if cv2.waitKey(1) & 0xFF == ord('q'):\n",
    "        break\n",
    "cap.release()\n",
    "cv2.destroyAllWindows()"
   ]
  },
  {
   "cell_type": "code",
   "execution_count": null,
   "metadata": {},
   "outputs": [],
   "source": [
    "cap.release()\n",
    "cv2.destroyAllWindows()"
   ]
  }
 ],
 "metadata": {
  "kernelspec": {
   "display_name": "Python 3",
   "language": "python",
   "name": "python3"
  },
  "language_info": {
   "codemirror_mode": {
    "name": "ipython",
    "version": 3
   },
   "file_extension": ".py",
   "mimetype": "text/x-python",
   "name": "python",
   "nbconvert_exporter": "python",
   "pygments_lexer": "ipython3",
   "version": "3.8.3"
  }
 },
 "nbformat": 4,
 "nbformat_minor": 4
}
