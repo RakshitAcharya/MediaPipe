{
 "cells": [
  {
   "cell_type": "code",
   "execution_count": 14,
   "metadata": {},
   "outputs": [],
   "source": [
    "import cv2\n",
    "import mediapipe as mp\n",
    "import time \n",
    "import handmodule as htm\n"
   ]
  },
  {
   "cell_type": "code",
   "execution_count": 13,
   "metadata": {},
   "outputs": [],
   "source": [
    "cap =  cv2.VideoCapture(0)\n",
    "cap. set(cv2.CAP_PROP_FRAME_WIDTH, 720)\n",
    "cap. set(cv2.CAP_PROP_FRAME_HEIGHT, 720)\n",
    "detector = htm.handDetector(maxHands=1)\n",
    "while True:\n",
    "    _ ,img= cap.read()\n",
    "    img = cv2.flip(img,1)\n",
    "   \n",
    "    img = detector.findHands(img)\n",
    "    lmlist = []\n",
    "    x_list=[]\n",
    "    y_list=[]\n",
    "    if detector.results.multi_hand_landmarks:\n",
    "        myhand = detector.results.multi_hand_landmarks[0]\n",
    "        for id, lm in enumerate(myhand.landmark):\n",
    "            h, w, c = img.shape\n",
    "            cx, cy = int(lm.x * w), int(lm.y * h)\n",
    "            x_list.append(cx)\n",
    "            y_list.append(cy)\n",
    "            lmlist.append([id,cx,cy])\n",
    "        \n",
    "    \n",
    "    fingerpoints = [4,8,12,16,20]\n",
    "    \n",
    "    fingers=[]\n",
    "    if len(lmlist)!= 0:\n",
    "        for i in range(1,5):\n",
    "            if lmlist[fingerpoints[i]][2] < lmlist[fingerpoints[i]-2][2]:\n",
    "                fingers.append(1)\n",
    "            else:\n",
    "                fingers.append(0)\n",
    "\n",
    "        if (lmlist[fingerpoints[0]][1] < lmlist[fingerpoints[0]-2][1]) &(lmlist[fingerpoints[0]][1] < lmlist[fingerpoints[0]-1][1]):\n",
    "            fingers.append(1)\n",
    "        else:\n",
    "            fingers.append(0)\n",
    "\n",
    "        n=fingers.count(1)\n",
    "        if (n == 5 or n==4):\n",
    "            cv2.putText(img,str(\"Paper\"),(370,75), cv2.FONT_HERSHEY_SIMPLEX,2, (0, 255, 0), 2)\n",
    "        elif(n == 1 or n==2 or n==3):\n",
    "            cv2.putText(img,str(\"Scissors\"),(370,75), cv2.FONT_HERSHEY_SIMPLEX,2, (0, 255, 0), 2)\n",
    "        else:\n",
    "            cv2.putText(img,str(\"Rock\"),(370,75), cv2.FONT_HERSHEY_SIMPLEX,2, (0, 255, 0), 2)\n",
    "            \n",
    "    \n",
    "    \n",
    "    \n",
    "    cv2.imshow(\"Rock Paper Scissor\",img)\n",
    "    if cv2.waitKey(1) & 0xFF == ord('q'):\n",
    "        break\n",
    "cap.release()\n",
    "cv2.destroyAllWindows()"
   ]
  },
  {
   "cell_type": "code",
   "execution_count": 15,
   "metadata": {},
   "outputs": [],
   "source": [
    "cap.release()\n",
    "cv2.destroyAllWindows()"
   ]
  },
  {
   "cell_type": "code",
   "execution_count": null,
   "metadata": {},
   "outputs": [],
   "source": []
  }
 ],
 "metadata": {
  "kernelspec": {
   "display_name": "Python 3",
   "language": "python",
   "name": "python3"
  },
  "language_info": {
   "codemirror_mode": {
    "name": "ipython",
    "version": 3
   },
   "file_extension": ".py",
   "mimetype": "text/x-python",
   "name": "python",
   "nbconvert_exporter": "python",
   "pygments_lexer": "ipython3",
   "version": "3.8.3"
  }
 },
 "nbformat": 4,
 "nbformat_minor": 4
}
