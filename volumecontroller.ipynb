{
 "cells": [
  {
   "cell_type": "code",
   "execution_count": 4,
   "metadata": {},
   "outputs": [],
   "source": [
    "import numpy as np\n",
    "import cv2\n",
    "import handmodule as htm\n",
    "import pycaw\n",
    "import math\n",
    "\n",
    "## Credits to Murtazas robotics and AI youtube channel\n",
    "\n",
    "from ctypes import cast, POINTER\n",
    "from comtypes import CLSCTX_ALL\n",
    "from pycaw.pycaw import AudioUtilities, IAudioEndpointVolume\n",
    "devices = AudioUtilities.GetSpeakers()\n",
    "interface = devices.Activate(\n",
    "    IAudioEndpointVolume._iid_, CLSCTX_ALL, None)\n",
    "volume = cast(interface, POINTER(IAudioEndpointVolume))\n",
    "\n",
    "ranged=volume.GetVolumeRange()\n",
    "maxvol=ranged[0]\n",
    "minvol=ranged[1]\n",
    "\n"
   ]
  },
  {
   "cell_type": "code",
   "execution_count": 5,
   "metadata": {},
   "outputs": [],
   "source": [
    "detector=htm.HandDetector(detectionCon=0.69)\n",
    "cap=cv2.VideoCapture(0)\n",
    "cap. set(cv2.CAP_PROP_FRAME_WIDTH, 1060)\n",
    "cap. set(cv2.CAP_PROP_FRAME_HEIGHT, 1020)\n",
    "lmlist=[]\n",
    "while True:\n",
    "    _,img= cap.read()\n",
    "    img = cv2.flip(img,1)\n",
    "    img = detector.findhands(img)\n",
    "    lmlist =  detector.findposition(img,draw=False)    \n",
    "    if len(lmlist)!=0:\n",
    "        x1,y1 = lmlist[4][1], lmlist[4][2]\n",
    "        x2,y2 = lmlist[8][1], lmlist[8][2]\n",
    "        cv2.circle(img , (x1,y1),10,(255,0,250),cv2.FILLED)\n",
    "        cv2.circle(img , (x2,y2),10,(255,0,250),cv2.FILLED)\n",
    "        cv2.line(img, (x1,y1),(x2,y2) ,(255,0,255) ,3)\n",
    "        \n",
    "        length = math.hypot(x2-x1, y2-y1)\n",
    "        control = np.interp(length,[50,250],[maxvol,minvol])\n",
    "        volume.SetMasterVolumeLevel(control, None)     \n",
    "                                \n",
    "        \n",
    "        \n",
    "    cv2.imshow(\"Volume Controller\",img)\n",
    "    if cv2.waitKey(1) & 0xFF == ord('q'):\n",
    "        break\n",
    "cap.release()\n",
    "cv2.destroyAllWindows()"
   ]
  },
  {
   "cell_type": "code",
   "execution_count": null,
   "metadata": {},
   "outputs": [],
   "source": []
  }
 ],
 "metadata": {
  "kernelspec": {
   "display_name": "Python 3",
   "language": "python",
   "name": "python3"
  },
  "language_info": {
   "codemirror_mode": {
    "name": "ipython",
    "version": 3
   },
   "file_extension": ".py",
   "mimetype": "text/x-python",
   "name": "python",
   "nbconvert_exporter": "python",
   "pygments_lexer": "ipython3",
   "version": "3.8.3"
  }
 },
 "nbformat": 4,
 "nbformat_minor": 4
}
